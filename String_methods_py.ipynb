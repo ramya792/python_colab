{
  "nbformat": 4,
  "nbformat_minor": 0,
  "metadata": {
    "colab": {
      "provenance": [],
      "authorship_tag": "ABX9TyPaOqdetQNhaferqDs8hCSD",
      "include_colab_link": true
    },
    "kernelspec": {
      "name": "python3",
      "display_name": "Python 3"
    },
    "language_info": {
      "name": "python"
    }
  },
  "cells": [
    {
      "cell_type": "markdown",
      "metadata": {
        "id": "view-in-github",
        "colab_type": "text"
      },
      "source": [
        "<a href=\"https://colab.research.google.com/github/ramya792/python_colab/blob/main/String_methods_py.ipynb\" target=\"_parent\"><img src=\"https://colab.research.google.com/assets/colab-badge.svg\" alt=\"Open In Colab\"/></a>"
      ]
    },
    {
      "cell_type": "code",
      "source": [
        "a=\"my naMe iS Ramya\"\n",
        "b= a.capitalize()\n",
        "print(b)"
      ],
      "metadata": {
        "id": "63IaqJdZ-xO5",
        "colab": {
          "base_uri": "https://localhost:8080/"
        },
        "outputId": "95cfb4ba-27db-442f-ae57-20004e4172f1"
      },
      "execution_count": null,
      "outputs": [
        {
          "output_type": "stream",
          "name": "stdout",
          "text": [
            "My name is ramya\n"
          ]
        }
      ]
    },
    {
      "cell_type": "code",
      "source": [
        "a=\"my naMe iS Ramya and my beSt Friend IS MAHADEV\"\n",
        "b= a.casefold()\n",
        "print(b)"
      ],
      "metadata": {
        "colab": {
          "base_uri": "https://localhost:8080/"
        },
        "id": "1zShjJhPxIye",
        "outputId": "fc34cdd9-d478-4775-9025-197fef7e2f88"
      },
      "execution_count": null,
      "outputs": [
        {
          "output_type": "stream",
          "name": "stdout",
          "text": [
            "my name is ramya and my best friend is mahadev\n"
          ]
        }
      ]
    },
    {
      "cell_type": "code",
      "source": [
        "T=\"apple\"\n",
        "D= T.center(20)\n",
        "print(D)"
      ],
      "metadata": {
        "colab": {
          "base_uri": "https://localhost:8080/"
        },
        "id": "gV9ukWkxxLDf",
        "outputId": "7e118e27-cfdf-4655-93d2-3686a5d9d76f"
      },
      "execution_count": null,
      "outputs": [
        {
          "output_type": "stream",
          "name": "stdout",
          "text": [
            "       apple        \n"
          ]
        }
      ]
    },
    {
      "cell_type": "code",
      "source": [
        "f=\"I Love my mom and i Love my brother also both are my endless happyness\"\n",
        "g=f.count(\"Love\")\n",
        "print(g)"
      ],
      "metadata": {
        "colab": {
          "base_uri": "https://localhost:8080/"
        },
        "id": "TQiXZkJcxLN2",
        "outputId": "0a04ae6f-fe66-4cbc-a55a-8d79c5043ca7"
      },
      "execution_count": null,
      "outputs": [
        {
          "output_type": "stream",
          "name": "stdout",
          "text": [
            "2\n"
          ]
        }
      ]
    },
    {
      "cell_type": "code",
      "source": [
        "T=\"apple!\"\n",
        "D= T.endswith(\"!\")\n",
        "print(D)"
      ],
      "metadata": {
        "colab": {
          "base_uri": "https://localhost:8080/"
        },
        "id": "qdxcjtxSxLX5",
        "outputId": "2bbb6dae-fae7-4301-d3da-318d39740e1d"
      },
      "execution_count": null,
      "outputs": [
        {
          "output_type": "stream",
          "name": "stdout",
          "text": [
            "True\n"
          ]
        }
      ]
    },
    {
      "cell_type": "code",
      "source": [
        "T=\"apple!\"\n",
        "D= T.endswith(\".\")\n",
        "print(D)"
      ],
      "metadata": {
        "colab": {
          "base_uri": "https://localhost:8080/"
        },
        "id": "bff7W588xLhL",
        "outputId": "49bce586-0554-4412-9767-1e89cc635a75"
      },
      "execution_count": null,
      "outputs": [
        {
          "output_type": "stream",
          "name": "stdout",
          "text": [
            "False\n"
          ]
        }
      ]
    },
    {
      "cell_type": "code",
      "source": [
        "a=\"welcome to my website\"\n",
        "T= a.index(\"to\")\n",
        "print(A)"
      ],
      "metadata": {
        "colab": {
          "base_uri": "https://localhost:8080/"
        },
        "id": "YJwyyz7kxLrs",
        "outputId": "78a548f2-ac4a-4739-af6c-c4958f04b7e1"
      },
      "execution_count": null,
      "outputs": [
        {
          "output_type": "stream",
          "name": "stdout",
          "text": [
            "welcome to my website\n"
          ]
        }
      ]
    },
    {
      "cell_type": "code",
      "source": [
        "t = \"50\"\n",
        "x = t.zfill(10)\n",
        "print(x)"
      ],
      "metadata": {
        "colab": {
          "base_uri": "https://localhost:8080/"
        },
        "id": "KhHonDWUxL21",
        "outputId": "a0aa9b24-d0a5-42e4-a253-92197a53287b"
      },
      "execution_count": null,
      "outputs": [
        {
          "output_type": "stream",
          "name": "stdout",
          "text": [
            "0000000050\n"
          ]
        }
      ]
    },
    {
      "cell_type": "code",
      "source": [
        "t = \"hi i am Ramya paMarThi\"\n",
        "x = t.upper()\n",
        "print(x)"
      ],
      "metadata": {
        "colab": {
          "base_uri": "https://localhost:8080/"
        },
        "id": "IZejx33GxJES",
        "outputId": "f8092c36-c782-424f-8f6c-8e5f3ac36230"
      },
      "execution_count": null,
      "outputs": [
        {
          "output_type": "stream",
          "name": "stdout",
          "text": [
            "HI I AM RAMYA PAMARTHI\n"
          ]
        }
      ]
    },
    {
      "cell_type": "code",
      "source": [
        "r= \"MaMa's Girl\"\n",
        "x = r.lower()\n",
        "print(x)"
      ],
      "metadata": {
        "colab": {
          "base_uri": "https://localhost:8080/"
        },
        "id": "aHQTWcFTxJRB",
        "outputId": "4c53137c-14ae-4322-8533-f91a244c69c2"
      },
      "execution_count": null,
      "outputs": [
        {
          "output_type": "stream",
          "name": "stdout",
          "text": [
            "mama's girl\n"
          ]
        }
      ]
    },
    {
      "cell_type": "code",
      "source": [
        "r= \"welcOmE to mY wEbsite\"\n",
        "x = r. title ()\n",
        "print(x)"
      ],
      "metadata": {
        "colab": {
          "base_uri": "https://localhost:8080/"
        },
        "id": "nQHjUrNhxJdI",
        "outputId": "bd1e458b-41f0-411f-9a8c-2d6beab2e3de"
      },
      "execution_count": null,
      "outputs": [
        {
          "output_type": "stream",
          "name": "stdout",
          "text": [
            "Welcome To My Website\n"
          ]
        }
      ]
    },
    {
      "cell_type": "code",
      "source": [
        "m= {83:70}\n",
        "t= \"Hello Sam!\"\n",
        "print(t.translate(m))"
      ],
      "metadata": {
        "colab": {
          "base_uri": "https://localhost:8080/"
        },
        "id": "6yCNfvAqxJoV",
        "outputId": "92e96e96-78af-49bb-c12f-a5f30fb5ac6e"
      },
      "execution_count": null,
      "outputs": [
        {
          "output_type": "stream",
          "name": "stdout",
          "text": [
            "Hello Fam!\n"
          ]
        }
      ]
    },
    {
      "cell_type": "code",
      "source": [
        "m= {83:90}\n",
        "t= \"Hello Sam!\"\n",
        "print(t.translate(m))"
      ],
      "metadata": {
        "colab": {
          "base_uri": "https://localhost:8080/"
        },
        "id": "Bbo76edYxJzW",
        "outputId": "f4beadde-bb44-43a0-bef4-6bd51505ea81"
      },
      "execution_count": null,
      "outputs": [
        {
          "output_type": "stream",
          "name": "stdout",
          "text": [
            "Hello Zam!\n"
          ]
        }
      ]
    },
    {
      "cell_type": "code",
      "source": [
        "m= {83:70}\n",
        "t= \"Hello Sam!\"\n",
        "print(t.translate(m))"
      ],
      "metadata": {
        "colab": {
          "base_uri": "https://localhost:8080/"
        },
        "id": "f8xbqoAUxJ_p",
        "outputId": "80279162-1e4f-4be8-ecf6-b749aabb5da0"
      },
      "execution_count": null,
      "outputs": [
        {
          "output_type": "stream",
          "name": "stdout",
          "text": [
            "Hello Fam!\n"
          ]
        }
      ]
    },
    {
      "cell_type": "code",
      "source": [
        "t = \"Hello My NaMe Is CHinNi\"\n",
        "x = t.swapcase()\n",
        "print(x)"
      ],
      "metadata": {
        "colab": {
          "base_uri": "https://localhost:8080/"
        },
        "id": "Xpx3HuqZMdLP",
        "outputId": "d89579b3-5141-43db-cf17-1999d4d16ce1"
      },
      "execution_count": null,
      "outputs": [
        {
          "output_type": "stream",
          "name": "stdout",
          "text": [
            "hELLO mY nAmE iS chINnI\n"
          ]
        }
      ]
    },
    {
      "cell_type": "code",
      "source": [
        "y= \"welcome to the my world\"\n",
        "x = y.split()\n",
        "print(x)"
      ],
      "metadata": {
        "colab": {
          "base_uri": "https://localhost:8080/"
        },
        "id": "gBH02CamMdbG",
        "outputId": "072657f1-d976-4c3b-92c9-81ea61309f5e"
      },
      "execution_count": null,
      "outputs": [
        {
          "output_type": "stream",
          "name": "stdout",
          "text": [
            "['welcome', 'to', 'the', 'my', 'world']\n"
          ]
        }
      ]
    },
    {
      "cell_type": "code",
      "source": [
        "k=\"hello world!\"\n",
        "x= k.islower()\n",
        "print(x)"
      ],
      "metadata": {
        "colab": {
          "base_uri": "https://localhost:8080/"
        },
        "id": "Shv63VHbMdoR",
        "outputId": "777440f8-a213-4a3d-a00b-1612611889e9"
      },
      "execution_count": null,
      "outputs": [
        {
          "output_type": "stream",
          "name": "stdout",
          "text": [
            "True\n"
          ]
        }
      ]
    },
    {
      "cell_type": "code",
      "source": [
        "l= \"Ramya\"\n",
        "x = l.isalnum()\n",
        "print(x)"
      ],
      "metadata": {
        "colab": {
          "base_uri": "https://localhost:8080/"
        },
        "id": "GnrnTPUyMdzj",
        "outputId": "9bdc34b6-35f7-44d1-b1f1-e2756b0785dd"
      },
      "execution_count": null,
      "outputs": [
        {
          "output_type": "stream",
          "name": "stdout",
          "text": [
            "True\n"
          ]
        }
      ]
    },
    {
      "cell_type": "code",
      "source": [
        "t= \"ramya2422\"\n",
        "x=t.isascii()\n",
        "print(x)"
      ],
      "metadata": {
        "colab": {
          "base_uri": "https://localhost:8080/"
        },
        "id": "XWiZS5MPMeAt",
        "outputId": "87eca317-bec9-4d39-c440-920c4c2deb37"
      },
      "execution_count": null,
      "outputs": [
        {
          "output_type": "stream",
          "name": "stdout",
          "text": [
            "True\n"
          ]
        }
      ]
    },
    {
      "cell_type": "code",
      "source": [
        "t = \"50800\"\n",
        "x = t.isdigit()\n",
        "print(x)"
      ],
      "metadata": {
        "colab": {
          "base_uri": "https://localhost:8080/"
        },
        "id": "cdkhdkoNMeKF",
        "outputId": "885830da-8bfe-4911-dd76-3e2e1180519d"
      },
      "execution_count": null,
      "outputs": [
        {
          "output_type": "stream",
          "name": "stdout",
          "text": [
            "True\n"
          ]
        }
      ]
    },
    {
      "cell_type": "code",
      "source": [
        "t = \"4hg\"\n",
        "x = t.isdigit()\n",
        "print(x)"
      ],
      "metadata": {
        "colab": {
          "base_uri": "https://localhost:8080/"
        },
        "id": "TT2We0ItMeRc",
        "outputId": "08181e76-b376-415b-95f1-c3e7673d17be"
      },
      "execution_count": null,
      "outputs": [
        {
          "output_type": "stream",
          "name": "stdout",
          "text": [
            "False\n"
          ]
        }
      ]
    },
    {
      "cell_type": "code",
      "source": [
        "r = \"Remo\"\n",
        "x = r.isidentifier()\n",
        "print(x)"
      ],
      "metadata": {
        "colab": {
          "base_uri": "https://localhost:8080/"
        },
        "id": "3h1sZ6oZMeY7",
        "outputId": "131bf1b6-417d-4c6a-94a8-c3a9a2016b78"
      },
      "execution_count": null,
      "outputs": [
        {
          "output_type": "stream",
          "name": "stdout",
          "text": [
            "True\n"
          ]
        }
      ]
    },
    {
      "cell_type": "code",
      "source": [
        "r = \"54\"\n",
        "x = r.isidentifier()\n",
        "print(x)"
      ],
      "metadata": {
        "colab": {
          "base_uri": "https://localhost:8080/"
        },
        "id": "OdbVgMYDMegt",
        "outputId": "4e3f42f6-0495-476e-9638-5724e1c7c997"
      },
      "execution_count": null,
      "outputs": [
        {
          "output_type": "stream",
          "name": "stdout",
          "text": [
            "False\n"
          ]
        }
      ]
    },
    {
      "cell_type": "code",
      "source": [
        "r = \"chinni64\"\n",
        "x = r.isidentifier()\n",
        "print(x)"
      ],
      "metadata": {
        "colab": {
          "base_uri": "https://localhost:8080/"
        },
        "id": "_t2uQX2VMeow",
        "outputId": "fac8976c-949d-48e3-ce18-fe45abcc89f9"
      },
      "execution_count": null,
      "outputs": [
        {
          "output_type": "stream",
          "name": "stdout",
          "text": [
            "True\n"
          ]
        }
      ]
    },
    {
      "cell_type": "code",
      "source": [
        "j = \"My name is Rämyã\"\n",
        "M = j.encode()\n",
        "print(M)"
      ],
      "metadata": {
        "id": "f0R82DAo-xet",
        "colab": {
          "base_uri": "https://localhost:8080/"
        },
        "outputId": "077d3c13-a321-4253-d73c-348e9c63e9e1"
      },
      "execution_count": null,
      "outputs": [
        {
          "output_type": "stream",
          "name": "stdout",
          "text": [
            "b'My name is R\\xc3\\xa4my\\xc3\\xa3'\n"
          ]
        }
      ]
    },
    {
      "cell_type": "code",
      "source": [
        "m = (\"John\", \"Peter\", \"Vicky\")\n",
        "x = \"#\".join(m)\n",
        "print(x)"
      ],
      "metadata": {
        "id": "8Ei7yrwa-xsD",
        "colab": {
          "base_uri": "https://localhost:8080/"
        },
        "outputId": "78ac7bdb-1ee1-4746-fa0f-d9367accd5cb"
      },
      "execution_count": null,
      "outputs": [
        {
          "output_type": "stream",
          "name": "stdout",
          "text": [
            "John#Peter#Vicky\n"
          ]
        }
      ]
    },
    {
      "cell_type": "code",
      "source": [
        "m = (\"John\", \"Peter\", \"Vicky\")\n",
        "x = \"👑\".join(m)\n",
        "print(x)"
      ],
      "metadata": {
        "id": "LhFKu3K_-x6D",
        "colab": {
          "base_uri": "https://localhost:8080/"
        },
        "outputId": "10277cc6-f1af-4c4e-992c-cbfbf9597055"
      },
      "execution_count": null,
      "outputs": [
        {
          "output_type": "stream",
          "name": "stdout",
          "text": [
            "John👑Peter👑Vicky\n"
          ]
        }
      ]
    },
    {
      "cell_type": "code",
      "source": [
        "t= \"Mi casa, su casa.\"\n",
        "x = t.rindex(\"casa\")\n",
        "print(x)"
      ],
      "metadata": {
        "id": "z3rrHZzb-yKH",
        "colab": {
          "base_uri": "https://localhost:8080/"
        },
        "outputId": "e3364e8a-5a1d-4e1a-aeb3-a22c97e96c7a"
      },
      "execution_count": null,
      "outputs": [
        {
          "output_type": "stream",
          "name": "stdout",
          "text": [
            "12\n"
          ]
        }
      ]
    },
    {
      "cell_type": "code",
      "source": [
        "t = \"Hello, welcome to my world.\"\n",
        "x = t.startswith(\"Hello\")\n",
        "print(x)"
      ],
      "metadata": {
        "id": "xjoG7iFr-yZ9",
        "colab": {
          "base_uri": "https://localhost:8080/"
        },
        "outputId": "20916f8c-6540-404b-aead-93a478cc4de4"
      },
      "execution_count": null,
      "outputs": [
        {
          "output_type": "stream",
          "name": "stdout",
          "text": [
            "True\n"
          ]
        }
      ]
    },
    {
      "cell_type": "code",
      "source": [
        " t= \"Hello, welcome to my world.\"\n",
        "x = t.startswith(\"my\")\n",
        "print(x)"
      ],
      "metadata": {
        "id": "-deofSMy-ylT",
        "colab": {
          "base_uri": "https://localhost:8080/"
        },
        "outputId": "da8be659-4d5f-45df-d5a1-d63c9aeb2c9e"
      },
      "execution_count": null,
      "outputs": [
        {
          "output_type": "stream",
          "name": "stdout",
          "text": [
            "False\n"
          ]
        }
      ]
    }
  ]
}