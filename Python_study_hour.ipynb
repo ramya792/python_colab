{
  "cells": [
    {
      "cell_type": "markdown",
      "metadata": {
        "id": "view-in-github",
        "colab_type": "text"
      },
      "source": [
        "<a href=\"https://colab.research.google.com/github/ramya792/python_colab/blob/main/Python_study_hour.ipynb\" target=\"_parent\"><img src=\"https://colab.research.google.com/assets/colab-badge.svg\" alt=\"Open In Colab\"/></a>"
      ]
    },
    {
      "cell_type": "code",
      "execution_count": 1,
      "metadata": {
        "colab": {
          "base_uri": "https://localhost:8080/"
        },
        "id": "sa8uoeGUZkXm",
        "outputId": "1f7f1b81-70ba-420c-b656-b2ce2083ea20"
      },
      "outputs": [
        {
          "output_type": "stream",
          "name": "stdout",
          "text": [
            "even\n"
          ]
        }
      ],
      "source": [
        "n=10\n",
        "if(n%2==0):\n",
        "    print(\"even\")\n",
        "else:\n",
        "    print(\"odd\")"
      ]
    },
    {
      "cell_type": "code",
      "execution_count": 2,
      "metadata": {
        "colab": {
          "base_uri": "https://localhost:8080/"
        },
        "id": "9axUDvOibBDU",
        "outputId": "654e2f3a-9865-4f35-94df-08899b641c1e"
      },
      "outputs": [
        {
          "output_type": "stream",
          "name": "stdout",
          "text": [
            "24 ramya\n"
          ]
        }
      ],
      "source": [
        "x=24\n",
        "y=\"ramya\"\n",
        "print(x,y)"
      ]
    },
    {
      "cell_type": "code",
      "execution_count": 3,
      "metadata": {
        "colab": {
          "base_uri": "https://localhost:8080/"
        },
        "id": "nXrXjsK5bcfV",
        "outputId": "7d86d817-6282-4c18-c636-de147d4c2435"
      },
      "outputs": [
        {
          "output_type": "stream",
          "name": "stdout",
          "text": [
            "5\n",
            "womens\n"
          ]
        }
      ],
      "source": [
        "a=3,7,15,19\n",
        "a=int(input())\n",
        "if(a==3):\n",
        "    print(\"kiet\")\n",
        "elif(a==7):\n",
        "    print(\"kietw\")\n",
        "\n",
        "elif(a==15):\n",
        "    print(\"kiet+\")\n",
        "else:\n",
        "    print(\"womens\")"
      ]
    },
    {
      "cell_type": "code",
      "execution_count": 4,
      "metadata": {
        "colab": {
          "base_uri": "https://localhost:8080/"
        },
        "id": "hwVTlG2QI0tR",
        "outputId": "ee3b4fa6-22ed-42d3-c83a-f52a192787ed"
      },
      "outputs": [
        {
          "output_type": "stream",
          "name": "stdout",
          "text": [
            "Ramya, chinni\n"
          ]
        }
      ],
      "source": [
        "a=\"Ramya, chinni\"\n",
        "X=a.capitalize()\n",
        "print(X)"
      ]
    },
    {
      "cell_type": "code",
      "execution_count": 5,
      "metadata": {
        "colab": {
          "base_uri": "https://localhost:8080/"
        },
        "id": "DUb6GG65f58Z",
        "outputId": "bc0902b1-4a94-4f46-9820-09069540fbc1"
      },
      "outputs": [
        {
          "output_type": "stream",
          "name": "stdout",
          "text": [
            "hello world\n"
          ]
        }
      ],
      "source": [
        "a=\"Hello world\"\n",
        "X=a.casefold()\n",
        "print(X)"
      ]
    },
    {
      "cell_type": "code",
      "execution_count": 6,
      "metadata": {
        "colab": {
          "base_uri": "https://localhost:8080/"
        },
        "id": "OYWmnb91gTss",
        "outputId": "9afe5ee5-ee00-454c-bef2-e563699a4159"
      },
      "outputs": [
        {
          "output_type": "stream",
          "name": "stdout",
          "text": [
            "       Banana       \n"
          ]
        }
      ],
      "source": [
        "a='Banana'\n",
        "X=a.center(20)\n",
        "print(X)"
      ]
    },
    {
      "cell_type": "code",
      "execution_count": 7,
      "metadata": {
        "colab": {
          "base_uri": "https://localhost:8080/"
        },
        "id": "e6AOgKL0gnNE",
        "outputId": "700d498c-1e16-4ef9-a956-2eaa4872407e"
      },
      "outputs": [
        {
          "output_type": "stream",
          "name": "stdout",
          "text": [
            "2\n"
          ]
        }
      ],
      "source": [
        "a=\"i love apple,apple are my favourite\"\n",
        "X=a.count(\"apple\")\n",
        "print(X)"
      ]
    },
    {
      "cell_type": "code",
      "execution_count": 8,
      "metadata": {
        "colab": {
          "base_uri": "https://localhost:8080/"
        },
        "id": "BUCjxvG2hBno",
        "outputId": "9725466f-b75e-4ef5-d1dd-1c55318f10e9"
      },
      "outputs": [
        {
          "output_type": "stream",
          "name": "stdout",
          "text": [
            "b'my name is Ramya'\n"
          ]
        }
      ],
      "source": [
        "a=\"my name is Ramya\"\n",
        "X=a.encode()\n",
        "print(X)"
      ]
    },
    {
      "cell_type": "code",
      "execution_count": 9,
      "metadata": {
        "colab": {
          "base_uri": "https://localhost:8080/"
        },
        "id": "j5S-AIzghRIz",
        "outputId": "c5f937ed-2a34-431d-da68-582af8ac0c8e"
      },
      "outputs": [
        {
          "output_type": "stream",
          "name": "stdout",
          "text": [
            "Hello\n",
            "o\n",
            "r\n",
            "world\n"
          ]
        }
      ],
      "source": [
        "a=\"Hello world\"\n",
        "print(a[:5])\n",
        "print(a[-4])\n",
        "print(a[8])\n",
        "print(a[6:])"
      ]
    },
    {
      "cell_type": "code",
      "execution_count": 10,
      "metadata": {
        "colab": {
          "base_uri": "https://localhost:8080/"
        },
        "id": "U8e4uDLRGExN",
        "outputId": "85d392c1-5cee-4612-ae22-833fd767fb17"
      },
      "outputs": [
        {
          "output_type": "stream",
          "name": "stdout",
          "text": [
            "5\n",
            "7\n",
            "12\n"
          ]
        }
      ],
      "source": [
        "A=int(input())\n",
        "B=int(input())\n",
        "C=(A+B)\n",
        "print(C)"
      ]
    },
    {
      "cell_type": "code",
      "execution_count": 11,
      "metadata": {
        "colab": {
          "base_uri": "https://localhost:8080/"
        },
        "id": "pHU9PAP6mCBn",
        "outputId": "31713e79-6961-4f5b-ca3f-5923dd73ae1a"
      },
      "outputs": [
        {
          "output_type": "stream",
          "name": "stdout",
          "text": [
            "8\n",
            "NO\n"
          ]
        }
      ],
      "source": [
        "N=int(input())\n",
        "if (N%5==0):\n",
        "    print(\"YES\")\n",
        "else:\n",
        "    print(\"NO\")"
      ]
    },
    {
      "cell_type": "code",
      "execution_count": 12,
      "metadata": {
        "colab": {
          "base_uri": "https://localhost:8080/"
        },
        "id": "G3sTG9prnq7t",
        "outputId": "d6c20997-da0f-4ddb-cb39-6f73adc0650e"
      },
      "outputs": [
        {
          "output_type": "stream",
          "name": "stdout",
          "text": [
            "6\n",
            "fizz\n"
          ]
        }
      ],
      "source": [
        "N=int(input())\n",
        "if(N%6==0):\n",
        "    print(\"fizz\")\n",
        "elif(N%3==0):\n",
        "    print(\"buzz\")\n",
        "else:\n",
        "    print(\"fizz buzz\")"
      ]
    },
    {
      "cell_type": "code",
      "execution_count": 13,
      "metadata": {
        "colab": {
          "base_uri": "https://localhost:8080/"
        },
        "id": "OzbH4FxppXj2",
        "outputId": "97ec49ad-ddc7-430e-c85f-5995c1e0148b"
      },
      "outputs": [
        {
          "output_type": "stream",
          "name": "stdout",
          "text": [
            "0\n",
            "fizz\n"
          ]
        }
      ],
      "source": [
        "N=int(input())\n",
        "if(N%4==0):\n",
        "    print(\"fizz\")\n",
        "else:\n",
        "    print(\"buzz\")"
      ]
    },
    {
      "cell_type": "code",
      "execution_count": null,
      "metadata": {
        "id": "koobK6dxt1wc"
      },
      "outputs": [],
      "source": [
        "A=int(input())\n",
        "B=int(input())\n",
        "C=A+B\n",
        "print(\"sum is\",C)\n",
        "C=A-B\n",
        "print(\"difference is\",C)\n",
        "C=A*B\n",
        "print(\"product is\",C)\n",
        "C=A%B\n",
        "print(\"percentage is\",C)\n",
        "C=A/B\n",
        "print(\"coefficient is\",C)"
      ]
    },
    {
      "cell_type": "code",
      "execution_count": null,
      "metadata": {
        "id": "v_kr4MnY39cX"
      },
      "outputs": [],
      "source": [
        "A=int(input())\n",
        "if(A>18):\n",
        "    print(\"eligible for vote\")\n",
        "else:\n",
        "    print(\"not eligible for vote\")"
      ]
    },
    {
      "cell_type": "code",
      "execution_count": null,
      "metadata": {
        "id": "feIhvw4l6j7-"
      },
      "outputs": [],
      "source": [
        "a=int(input())\n",
        "b=int(input())\n",
        "c=int(input())\n",
        "if(a>b and a>c):\n",
        "    print(\"a is bigger number\")\n",
        "elif(b>a and b>c):\n",
        "    print(\"b is bigger number\")\n",
        "else:\n",
        "    print(\"c is bigger number\")"
      ]
    },
    {
      "cell_type": "code",
      "execution_count": null,
      "metadata": {
        "id": "S4hv7xQpD_LJ"
      },
      "outputs": [],
      "source": [
        "A=int(input())\n",
        "if(A>0):\n",
        "    print(\"positive\")\n",
        "else:\n",
        "    print(\" nagative\")"
      ]
    },
    {
      "cell_type": "code",
      "execution_count": null,
      "metadata": {
        "id": "QTRHZP3JE1Ma"
      },
      "outputs": [],
      "source": [
        "QA=int(input())\n",
        "if(A>0):\n",
        "    print(\"positive\")\n",
        "else:\n",
        "    print(\"nagative\")"
      ]
    },
    {
      "cell_type": "code",
      "execution_count": null,
      "metadata": {
        "id": "lQjms1FiIgYp"
      },
      "outputs": [],
      "source": [
        "A=int(input())\n",
        "if(A>80):\n",
        "    print(\"grade A\")\n",
        "elif(A<50):\n",
        "    print(\"Ok\")\n",
        "else:\n",
        "    print(\"fail\")"
      ]
    },
    {
      "cell_type": "code",
      "execution_count": null,
      "metadata": {
        "id": "tRVgRP3PUiHV"
      },
      "outputs": [],
      "source": [
        "\n",
        "for i in range(1,10):\n",
        "    print(i)"
      ]
    },
    {
      "cell_type": "code",
      "execution_count": null,
      "metadata": {
        "id": "qSB_cgFZVxb9"
      },
      "outputs": [],
      "source": [
        "for i in range(1,21):\n",
        "    if(i%2!=0):\n",
        "        print(i)"
      ]
    },
    {
      "cell_type": "code",
      "execution_count": null,
      "metadata": {
        "id": "obCN4sKGYRPZ"
      },
      "outputs": [],
      "source": [
        "for i in range (1,21):\n",
        "    if(i%2==0):\n",
        "        print(i)"
      ]
    },
    {
      "cell_type": "code",
      "execution_count": null,
      "metadata": {
        "id": "AnOB8NjYYqAE"
      },
      "outputs": [],
      "source": [
        "for i in range(1,101):\n",
        "    if(i%5==0):\n",
        "        print(i)"
      ]
    },
    {
      "cell_type": "code",
      "execution_count": null,
      "metadata": {
        "id": "Pvy9GjYIZJS_"
      },
      "outputs": [],
      "source": [
        "for i in range(1,800):\n",
        "    if(i%20==0):"
      ]
    },
    {
      "cell_type": "markdown",
      "metadata": {
        "id": "aT7Kl-gTZjhe"
      },
      "source": []
    },
    {
      "cell_type": "code",
      "execution_count": null,
      "metadata": {
        "id": "I51W9bb8Zepk"
      },
      "outputs": [],
      "source": [
        "a=7\n",
        "b=8\n",
        "K=a**2+b**2+2*a*b\n",
        "print(K)"
      ]
    },
    {
      "cell_type": "code",
      "execution_count": null,
      "metadata": {
        "id": "Oxgi64Gmit_X"
      },
      "outputs": [],
      "source": [
        "def addition(a,b):\n",
        "    print(a+b)\n",
        "def sub(a,b):\n",
        "    print(a-b)\n",
        "addition(1,80)\n",
        "addition(5,85)\n",
        "sub(1,67)\n",
        "sub(1,7)"
      ]
    },
    {
      "cell_type": "code",
      "execution_count": null,
      "metadata": {
        "id": "CHcr9Zvzvdjm"
      },
      "outputs": [],
      "source": [
        "a=int(input(\"enter the number\"))\n",
        "b=int(input(\"enter the number\"))\n",
        "a,b=b,a\n",
        "print(a)\n",
        "print(b)"
      ]
    },
    {
      "cell_type": "code",
      "execution_count": null,
      "metadata": {
        "id": "06GKthwMzX7z"
      },
      "outputs": [],
      "source": [
        "a=int(input())\n",
        "if(a%6>=0):\n",
        "    print(\"even\")\n",
        "else:\n",
        "    print(\"odd\")"
      ]
    },
    {
      "cell_type": "code",
      "execution_count": null,
      "metadata": {
        "id": "8_-aupCtElqg"
      },
      "outputs": [],
      "source": [
        "A=\"hello welcome to my world\"\n",
        "x=A.endswith(\".\")\n",
        "print(x)"
      ]
    },
    {
      "cell_type": "code",
      "execution_count": null,
      "metadata": {
        "id": "5JyHHZHWIsEz"
      },
      "outputs": [],
      "source": [
        "A=\"700\"\n",
        "X=A.zfill(7)\n",
        "print(X)"
      ]
    },
    {
      "cell_type": "code",
      "execution_count": null,
      "metadata": {
        "id": "w2fzFBdNLfwq"
      },
      "outputs": [],
      "source": [
        "A=\"my world is small\"\n",
        "B=A.title()\n",
        "print(B)"
      ]
    },
    {
      "cell_type": "code",
      "execution_count": null,
      "metadata": {
        "id": "f5co4aqTOoR4"
      },
      "outputs": [],
      "source": []
    },
    {
      "cell_type": "code",
      "execution_count": null,
      "metadata": {
        "id": "HRHYo2A6Jd4r"
      },
      "outputs": [],
      "source": [
        "A=\"My World Is Very Small\"\n",
        "B=A.upper()\n",
        "print(B)"
      ]
    },
    {
      "cell_type": "code",
      "execution_count": null,
      "metadata": {
        "id": "3S8qw2cEOxD9"
      },
      "outputs": [],
      "source": [
        "A=\"my world is small\"\n",
        "B=A.swapcase()\n",
        "print(B)"
      ]
    },
    {
      "cell_type": "code",
      "source": [
        "A=[1,2,3,4,]\n",
        "B=A.append(5)\n",
        "print(A)"
      ],
      "metadata": {
        "id": "FiQn60sCTDCf"
      },
      "execution_count": null,
      "outputs": []
    },
    {
      "cell_type": "code",
      "source": [
        "A=[1,2,3,4,'Ramya']\n",
        "B=A.clear()\n",
        "print(A)"
      ],
      "metadata": {
        "id": "k2DAP7l8TYw5"
      },
      "execution_count": null,
      "outputs": []
    },
    {
      "cell_type": "code",
      "source": [
        "A=[1,2,3,5,6]\n",
        "B=A.copy()\n",
        "print(A)"
      ],
      "metadata": {
        "id": "RfpVu4EvTx1F"
      },
      "execution_count": null,
      "outputs": []
    },
    {
      "cell_type": "code",
      "source": [
        "A=[1,2,3,2,1,3,3,3,3]\n",
        "B=A.count(3)\n",
        "print(B)"
      ],
      "metadata": {
        "id": "LVQEk_xcUlkJ"
      },
      "execution_count": null,
      "outputs": []
    },
    {
      "cell_type": "code",
      "source": [
        "A=[1,2,3,4]\n",
        "B=[5,6,7,8]\n",
        "A.extend(B)\n",
        "print(A)"
      ],
      "metadata": {
        "id": "jV8D6ALEU8Js"
      },
      "execution_count": null,
      "outputs": []
    },
    {
      "cell_type": "code",
      "source": [
        "A=[1,8,6,7,9]\n",
        "B=A.sort()\n",
        "print(A)"
      ],
      "metadata": {
        "id": "G6I0PenRWRkz"
      },
      "execution_count": null,
      "outputs": []
    },
    {
      "cell_type": "code",
      "source": [
        "A=[1,3,4,2,5,6]\n",
        "B=A.pop(2)\n",
        "print(A)"
      ],
      "metadata": {
        "id": "LBS3_Jj1Wg7f"
      },
      "execution_count": null,
      "outputs": []
    },
    {
      "cell_type": "code",
      "source": [
        "A=[1,2,4,6,7,8]\n",
        "B=A.remove(4)\n",
        "print(A)"
      ],
      "metadata": {
        "id": "_1fziX96WwfP"
      },
      "execution_count": null,
      "outputs": []
    },
    {
      "cell_type": "code",
      "source": [
        "A=[1,3,6,5,7,9]\n",
        "B=A.insert(1,2)\n",
        "print(A)"
      ],
      "metadata": {
        "id": "NcFjHq1lXDCu"
      },
      "execution_count": null,
      "outputs": []
    },
    {
      "cell_type": "code",
      "source": [
        "A=[1,2,3,4,5]\n",
        "B=A.reverse()\n",
        "print(A)"
      ],
      "metadata": {
        "id": "RnUCBbj4XqwC"
      },
      "execution_count": null,
      "outputs": []
    },
    {
      "cell_type": "code",
      "source": [
        "A=[1,2,3,4,5]\n",
        "B=A.index(5)\n",
        "print(B)"
      ],
      "metadata": {
        "id": "hNBUj-mLX5-K"
      },
      "execution_count": null,
      "outputs": []
    },
    {
      "cell_type": "code",
      "source": [
        "a=24\n",
        "if(a > 2):\n",
        "  print(\"hhh\")\n",
        "  if(a < 20):\n",
        "     print(\"Ramya\")\n",
        "  else:\n",
        "     print(\"Chinni\")"
      ],
      "metadata": {
        "id": "uBNFdbCjVhhh"
      },
      "execution_count": null,
      "outputs": []
    },
    {
      "cell_type": "code",
      "source": [
        "age = int(input(\"Enter your age: \"))\n",
        "student = input(\"Are you a student? (yes/no): \")\n",
        "\n",
        "if (age >= 18):\n",
        "    if student == 'yes':\n",
        "        print(\"You are an adult student.\")\n",
        "    else:\n",
        "        print(\"You are an adult and not a student.\")\n",
        "else:\n",
        "    if (student == 'yes'):\n",
        "        print(\"You are a minor student.\")\n",
        "    else:\n",
        "        print(\"You are a minor and not a student.\")"
      ],
      "metadata": {
        "id": "0TsP_DUlW0wr"
      },
      "execution_count": null,
      "outputs": []
    },
    {
      "cell_type": "code",
      "source": [
        "for i in range(6):\n",
        "    print(i)"
      ],
      "metadata": {
        "id": "gmQ8Q8fvsrbb"
      },
      "execution_count": null,
      "outputs": []
    },
    {
      "cell_type": "code",
      "source": [
        "a=['4','6','2']\n",
        "for i in a:\n",
        "    print(i)"
      ],
      "metadata": {
        "id": "toXbFOmUs2kb"
      },
      "execution_count": null,
      "outputs": []
    },
    {
      "cell_type": "code",
      "source": [
        "for i in range(1,6):\n",
        "    print(i)"
      ],
      "metadata": {
        "id": "MLam_136tZZi"
      },
      "execution_count": null,
      "outputs": []
    },
    {
      "cell_type": "code",
      "source": [
        "i=1\n",
        "while i<11:\n",
        "    print(i)\n",
        "    i+=1"
      ],
      "metadata": {
        "id": "66Q6APyUSYM7"
      },
      "execution_count": null,
      "outputs": []
    },
    {
      "cell_type": "code",
      "source": [
        "i=1\n",
        "while i< 10:\n",
        "    print(i)\n",
        "    i+=7"
      ],
      "metadata": {
        "id": "TbLi3-hyUKGS"
      },
      "execution_count": null,
      "outputs": []
    },
    {
      "cell_type": "code",
      "source": [
        "n=int(input())\n",
        "for i in range(1,n+1):\n",
        "  for j in range(1,i+1):\n",
        "     print(\"*\",end=\" \")\n",
        "  print()"
      ],
      "metadata": {
        "id": "B1S3MTXu92zo"
      },
      "execution_count": null,
      "outputs": []
    },
    {
      "cell_type": "code",
      "source": [
        "R=int(input())\n",
        "for j in range(1,R+1):\n",
        "  for i in range(1,j+2):\n",
        "     print(\"*\",end=\" \")\n",
        "  print()"
      ],
      "metadata": {
        "id": "yQu3Uzsc_TcF"
      },
      "execution_count": null,
      "outputs": []
    },
    {
      "cell_type": "code",
      "source": [
        "R=int(input())\n",
        "for i in range(1,R+1):\n",
        "  for j in range(1,i+2):\n",
        "     print(\"1\",end=\" \")\n",
        "  print()"
      ],
      "metadata": {
        "id": "Nc6z3nkNCFd6"
      },
      "execution_count": null,
      "outputs": []
    },
    {
      "cell_type": "code",
      "source": [
        "R=int(input())\n",
        "for i in range(R):\n",
        "  for j in range(R):\n",
        "\n",
        "     print(\"*\",end=\" \")\n",
        "  print()"
      ],
      "metadata": {
        "id": "3vdEOk0_C7L7"
      },
      "execution_count": null,
      "outputs": []
    },
    {
      "cell_type": "code",
      "source": [
        "R=6\n",
        "for i in range(R):\n",
        "  for j in range(i,R):\n",
        "    print(\"$\",end=\" \")\n",
        "  print()"
      ],
      "metadata": {
        "id": "autJsMofGKeQ"
      },
      "execution_count": null,
      "outputs": []
    },
    {
      "cell_type": "code",
      "source": [
        "A=int(input())\n",
        "for i in range(R):\n",
        "  for j in range(i,R):\n",
        "    print(\"🥰\",0end=\" \")\n",
        "  for j in range(i+1):\n",
        "    print(\"🐒\",end=\" \")\n",
        "  print()"
      ],
      "metadata": {
        "id": "FQ5HDAyeHTW0"
      },
      "execution_count": null,
      "outputs": []
    },
    {
      "cell_type": "code",
      "source": [
        "R=int(input())\n",
        "for i in range(R):\n",
        "  for j in range(i,R):\n",
        "    print(\" \",end=\" \")\n",
        "  for j in range(i+1):\n",
        "    print(\"👑\",end=\" \")\n",
        "  print()"
      ],
      "metadata": {
        "id": "Rypjw5xUIeuo"
      },
      "execution_count": null,
      "outputs": []
    },
    {
      "cell_type": "code",
      "source": [
        "R=int(input())\n",
        "for i in range(R):\n",
        "  for j in range(i,R-1):\n",
        "      print(\"🎄\",end=\" \")\n",
        "  for j in range(i+1):\n",
        "      print(\"🎁\",end=\" \")\n",
        "  print()"
      ],
      "metadata": {
        "id": "lAJ2sPnTV_h3"
      },
      "execution_count": null,
      "outputs": []
    },
    {
      "cell_type": "code",
      "source": [
        "R=int(input())\n",
        "for i in range(R):\n",
        "\n",
        "  for j in range(i,R-1):\n",
        "      print(\"🎁\",end=\" \")\n",
        "  print()"
      ],
      "metadata": {
        "id": "vzzUSLihV_yz"
      },
      "execution_count": null,
      "outputs": []
    },
    {
      "cell_type": "code",
      "source": [
        "R=int(input())\n",
        "for i in range(R):\n",
        "  for j in range(i,R+1):\n",
        "      print(\"✨\",end=\" \")\n",
        "  for j in range(i):\n",
        "      print(\"🎁\",end=\" \")\n",
        "  for i in range(i+1):\n",
        "      print(\"*\",end=\" \")\n",
        "  print()"
      ],
      "metadata": {
        "id": "wv6-hxwGWAJi"
      },
      "execution_count": null,
      "outputs": []
    },
    {
      "cell_type": "code",
      "source": [
        "R=int(input())\n",
        "for i in range(R):\n",
        "  for j in range(i+1):\n",
        "      print(\" \",end=\" \")\n",
        "  for j in range(i,R-1):\n",
        "      print(\"🎁\",end=\" \")\n",
        "  print()"
      ],
      "metadata": {
        "id": "Bz2Okxe9WAd3"
      },
      "execution_count": null,
      "outputs": []
    },
    {
      "cell_type": "code",
      "source": [
        "R=int(input())\n",
        "for i in range(R):\n",
        "  for j in range(i,R+1):\n",
        "      print(\" \",end=\" \")\n",
        "  for j in range(i):\n",
        "      print(\"🎁\",end=\" \")\n",
        "  for i in range(i+1):\n",
        "      print(\"*\",end=\" \")\n",
        "  print()"
      ],
      "metadata": {
        "id": "tHOMaYr5ba4_"
      },
      "execution_count": null,
      "outputs": []
    },
    {
      "cell_type": "code",
      "source": [
        "for x in range(65,70):\n",
        "   for y in range(65,x+1):\n",
        "        print(chr(y), end=\" \")\n",
        "   print()"
      ],
      "metadata": {
        "id": "-Gl9Xf3u3z8K"
      },
      "execution_count": null,
      "outputs": []
    },
    {
      "cell_type": "code",
      "source": [
        "for x in range(1,10):\n",
        "  for y in range(1,x+1):\n",
        "      print(int(x), end=\" \")\n",
        "  print()"
      ],
      "metadata": {
        "id": "0IrguGOI6dgX"
      },
      "execution_count": null,
      "outputs": []
    },
    {
      "cell_type": "code",
      "source": [
        "for x in range(65,71):\n",
        "  for y in range(65,x+1):\n",
        "      print(chr(x), end=\" \")\n",
        "  print()"
      ],
      "metadata": {
        "id": "eH_Quvaj_Dcz"
      },
      "execution_count": null,
      "outputs": []
    },
    {
      "cell_type": "code",
      "source": [
        "\n",
        "A= int(input())\n",
        "for i in range(1,11):\n",
        "   print(A, \"*\",i,\"=\",A*i)"
      ],
      "metadata": {
        "id": "YOFJS_6V_WnL"
      },
      "execution_count": null,
      "outputs": []
    },
    {
      "cell_type": "code",
      "source": [
        "for x in range(1,10):\n",
        "  for y in range(1,x+1):\n",
        "      print(int(y), end=\" \")\n",
        "  print()"
      ],
      "metadata": {
        "id": "rM5K3cWWAAY2"
      },
      "execution_count": null,
      "outputs": []
    }
  ],
  "metadata": {
    "colab": {
      "provenance": [],
      "authorship_tag": "ABX9TyPvJse3qr6q9BfWzjbP56kY",
      "include_colab_link": true
    },
    "kernelspec": {
      "display_name": "Python 3",
      "name": "python3"
    },
    "language_info": {
      "name": "python"
    }
  },
  "nbformat": 4,
  "nbformat_minor": 0
}